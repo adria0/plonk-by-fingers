{
 "cells": [
  {
   "cell_type": "code",
   "execution_count": 3,
   "metadata": {},
   "outputs": [
    {
     "ename": "SyntaxError",
     "evalue": "invalid syntax (<ipython-input-3-0160c2fc036e>, line 1)",
     "output_type": "error",
     "traceback": [
      "\u001b[0;36m  File \u001b[0;32m\"<ipython-input-3-0160c2fc036e>\"\u001b[0;36m, line \u001b[0;32m1\u001b[0m\n\u001b[0;31m    function bitreverse(a::Array)\u001b[0m\n\u001b[0m             ^\u001b[0m\n\u001b[0;31mSyntaxError\u001b[0m\u001b[0;31m:\u001b[0m invalid syntax\n"
     ]
    }
   ],
   "source": [
    "function bitreverse(a::Array)\n",
    "    # First, we need to find the necessary number of bits\n",
    "    digits = convert(Int,ceil(log2(length(a))))\n",
    "\n",
    "    indices = [i for i = 0:length(a)-1]\n",
    "\n",
    "    bit_indices = []\n",
    "    for i = 1:length(indices)\n",
    "        push!(bit_indices, bitstring(indices[i]))\n",
    "    end\n",
    "\n",
    "    # Now stripping the unnecessary numbers\n",
    "    for i = 1:length(bit_indices)\n",
    "        bit_indices[i] = bit_indices[i][end-digits:end]\n",
    "    end\n",
    "\n",
    "    # Flipping the bits\n",
    "    for i =1:length(bit_indices)\n",
    "        bit_indices[i] = reverse(bit_indices[i])\n",
    "    end\n",
    "\n",
    "    # Replacing indices\n",
    "    for i = 1:length(indices)\n",
    "        indices[i] = 0\n",
    "        for j = 1:digits\n",
    "            indices[i] += 2^(j-1) * parse(Int, string(bit_indices[i][end-j]))\n",
    "        end\n",
    "        indices[i] += 1\n",
    "    end\n",
    "\n",
    "    b = [float(i) for i = 1:length(a)]\n",
    "    for i = 1:length(indices)\n",
    "        b[i] = a[indices[i]]\n",
    "    end\n",
    "\n",
    "    return b\n",
    "end"
   ]
  },
  {
   "cell_type": "code",
   "execution_count": null,
   "metadata": {},
   "outputs": [],
   "source": []
  }
 ],
 "metadata": {
  "kernelspec": {
   "display_name": "Python 3",
   "language": "python",
   "name": "python3"
  },
  "language_info": {
   "codemirror_mode": {
    "name": "ipython",
    "version": 3
   },
   "file_extension": ".py",
   "mimetype": "text/x-python",
   "name": "python",
   "nbconvert_exporter": "python",
   "pygments_lexer": "ipython3",
   "version": "3.9.5"
  }
 },
 "nbformat": 4,
 "nbformat_minor": 4
}
